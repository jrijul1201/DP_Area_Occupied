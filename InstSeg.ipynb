{
  "cells": [
    {
      "cell_type": "markdown",
      "metadata": {
        "id": "XxzV-jeIXKdc"
      },
      "source": [
        "# 1. Install and Import Dependencies"
      ]
    },
    {
      "cell_type": "code",
      "execution_count": 1,
      "metadata": {
        "colab": {
          "base_uri": "https://localhost:8080/"
        },
        "id": "0Wp3uffCXKdf",
        "outputId": "5b7fa8ff-8a66-409e-89b6-baf116a99681"
      },
      "outputs": [
        {
          "name": "stdout",
          "output_type": "stream",
          "text": [
            "Requirement already satisfied: tensorflow==2.5.1 in /home/rijul/miniconda3/lib/python3.9/site-packages (2.5.1)\n",
            "Requirement already satisfied: tensorboard~=2.5 in /home/rijul/miniconda3/lib/python3.9/site-packages (from tensorflow==2.5.1) (2.10.0)\n",
            "Requirement already satisfied: google-pasta~=0.2 in /home/rijul/miniconda3/lib/python3.9/site-packages (from tensorflow==2.5.1) (0.2.0)\n",
            "Requirement already satisfied: gast==0.4.0 in /home/rijul/miniconda3/lib/python3.9/site-packages (from tensorflow==2.5.1) (0.4.0)\n",
            "Requirement already satisfied: h5py~=3.1.0 in /home/rijul/miniconda3/lib/python3.9/site-packages (from tensorflow==2.5.1) (3.1.0)\n",
            "Requirement already satisfied: opt-einsum~=3.3.0 in /home/rijul/miniconda3/lib/python3.9/site-packages (from tensorflow==2.5.1) (3.3.0)\n",
            "Requirement already satisfied: flatbuffers~=1.12.0 in /home/rijul/miniconda3/lib/python3.9/site-packages (from tensorflow==2.5.1) (1.12)\n",
            "Requirement already satisfied: tensorflow-estimator<2.6.0,>=2.5.0 in /home/rijul/miniconda3/lib/python3.9/site-packages (from tensorflow==2.5.1) (2.5.0)\n",
            "Requirement already satisfied: six~=1.15.0 in /home/rijul/miniconda3/lib/python3.9/site-packages (from tensorflow==2.5.1) (1.15.0)\n",
            "Requirement already satisfied: keras-nightly~=2.5.0.dev in /home/rijul/miniconda3/lib/python3.9/site-packages (from tensorflow==2.5.1) (2.5.0.dev2021032900)\n",
            "Requirement already satisfied: wrapt~=1.12.1 in /home/rijul/miniconda3/lib/python3.9/site-packages (from tensorflow==2.5.1) (1.12.1)\n",
            "Requirement already satisfied: grpcio~=1.34.0 in /home/rijul/miniconda3/lib/python3.9/site-packages (from tensorflow==2.5.1) (1.34.1)\n",
            "Requirement already satisfied: astunparse~=1.6.3 in /home/rijul/miniconda3/lib/python3.9/site-packages (from tensorflow==2.5.1) (1.6.3)\n",
            "Requirement already satisfied: protobuf>=3.9.2 in /home/rijul/miniconda3/lib/python3.9/site-packages (from tensorflow==2.5.1) (3.19.5)\n",
            "Collecting typing-extensions~=3.7.4\n",
            "  Using cached typing_extensions-3.7.4.3-py3-none-any.whl (22 kB)\n",
            "Requirement already satisfied: termcolor~=1.1.0 in /home/rijul/miniconda3/lib/python3.9/site-packages (from tensorflow==2.5.1) (1.1.0)\n",
            "Requirement already satisfied: keras-preprocessing~=1.1.2 in /home/rijul/miniconda3/lib/python3.9/site-packages (from tensorflow==2.5.1) (1.1.2)\n",
            "Requirement already satisfied: absl-py~=0.10 in /home/rijul/miniconda3/lib/python3.9/site-packages (from tensorflow==2.5.1) (0.15.0)\n",
            "Requirement already satisfied: wheel~=0.35 in /home/rijul/miniconda3/lib/python3.9/site-packages (from tensorflow==2.5.1) (0.37.1)\n",
            "Requirement already satisfied: numpy~=1.19.2 in /home/rijul/miniconda3/lib/python3.9/site-packages (from tensorflow==2.5.1) (1.19.5)\n",
            "Requirement already satisfied: tensorboard-data-server<0.7.0,>=0.6.0 in /home/rijul/miniconda3/lib/python3.9/site-packages (from tensorboard~=2.5->tensorflow==2.5.1) (0.6.1)\n",
            "Requirement already satisfied: werkzeug>=1.0.1 in /home/rijul/miniconda3/lib/python3.9/site-packages (from tensorboard~=2.5->tensorflow==2.5.1) (2.2.2)\n",
            "Requirement already satisfied: requests<3,>=2.21.0 in /home/rijul/miniconda3/lib/python3.9/site-packages (from tensorboard~=2.5->tensorflow==2.5.1) (2.27.1)\n",
            "Requirement already satisfied: setuptools>=41.0.0 in /home/rijul/miniconda3/lib/python3.9/site-packages (from tensorboard~=2.5->tensorflow==2.5.1) (61.2.0)\n",
            "Requirement already satisfied: tensorboard-plugin-wit>=1.6.0 in /home/rijul/miniconda3/lib/python3.9/site-packages (from tensorboard~=2.5->tensorflow==2.5.1) (1.8.1)\n",
            "Requirement already satisfied: google-auth<3,>=1.6.3 in /home/rijul/miniconda3/lib/python3.9/site-packages (from tensorboard~=2.5->tensorflow==2.5.1) (2.11.1)\n",
            "Requirement already satisfied: google-auth-oauthlib<0.5,>=0.4.1 in /home/rijul/miniconda3/lib/python3.9/site-packages (from tensorboard~=2.5->tensorflow==2.5.1) (0.4.6)\n",
            "Requirement already satisfied: markdown>=2.6.8 in /home/rijul/miniconda3/lib/python3.9/site-packages (from tensorboard~=2.5->tensorflow==2.5.1) (3.4.1)\n",
            "Requirement already satisfied: rsa<5,>=3.1.4 in /home/rijul/miniconda3/lib/python3.9/site-packages (from google-auth<3,>=1.6.3->tensorboard~=2.5->tensorflow==2.5.1) (4.9)\n",
            "Requirement already satisfied: pyasn1-modules>=0.2.1 in /home/rijul/miniconda3/lib/python3.9/site-packages (from google-auth<3,>=1.6.3->tensorboard~=2.5->tensorflow==2.5.1) (0.2.8)\n",
            "Requirement already satisfied: cachetools<6.0,>=2.0.0 in /home/rijul/miniconda3/lib/python3.9/site-packages (from google-auth<3,>=1.6.3->tensorboard~=2.5->tensorflow==2.5.1) (5.2.0)\n",
            "Requirement already satisfied: requests-oauthlib>=0.7.0 in /home/rijul/miniconda3/lib/python3.9/site-packages (from google-auth-oauthlib<0.5,>=0.4.1->tensorboard~=2.5->tensorflow==2.5.1) (1.3.1)\n",
            "Requirement already satisfied: importlib-metadata>=4.4 in /home/rijul/miniconda3/lib/python3.9/site-packages (from markdown>=2.6.8->tensorboard~=2.5->tensorflow==2.5.1) (4.12.0)\n",
            "Requirement already satisfied: zipp>=0.5 in /home/rijul/miniconda3/lib/python3.9/site-packages (from importlib-metadata>=4.4->markdown>=2.6.8->tensorboard~=2.5->tensorflow==2.5.1) (3.8.1)\n",
            "Requirement already satisfied: pyasn1<0.5.0,>=0.4.6 in /home/rijul/miniconda3/lib/python3.9/site-packages (from pyasn1-modules>=0.2.1->google-auth<3,>=1.6.3->tensorboard~=2.5->tensorflow==2.5.1) (0.4.8)\n",
            "Requirement already satisfied: urllib3<1.27,>=1.21.1 in /home/rijul/miniconda3/lib/python3.9/site-packages (from requests<3,>=2.21.0->tensorboard~=2.5->tensorflow==2.5.1) (1.26.8)\n",
            "Requirement already satisfied: idna<4,>=2.5 in /home/rijul/miniconda3/lib/python3.9/site-packages (from requests<3,>=2.21.0->tensorboard~=2.5->tensorflow==2.5.1) (3.3)\n",
            "Requirement already satisfied: charset-normalizer~=2.0.0 in /home/rijul/miniconda3/lib/python3.9/site-packages (from requests<3,>=2.21.0->tensorboard~=2.5->tensorflow==2.5.1) (2.0.4)\n",
            "Requirement already satisfied: certifi>=2017.4.17 in /home/rijul/miniconda3/lib/python3.9/site-packages (from requests<3,>=2.21.0->tensorboard~=2.5->tensorflow==2.5.1) (2021.10.8)\n",
            "Requirement already satisfied: oauthlib>=3.0.0 in /home/rijul/miniconda3/lib/python3.9/site-packages (from requests-oauthlib>=0.7.0->google-auth-oauthlib<0.5,>=0.4.1->tensorboard~=2.5->tensorflow==2.5.1) (3.2.1)\n",
            "Requirement already satisfied: MarkupSafe>=2.1.1 in /home/rijul/miniconda3/lib/python3.9/site-packages (from werkzeug>=1.0.1->tensorboard~=2.5->tensorflow==2.5.1) (2.1.1)\n",
            "Installing collected packages: typing-extensions\n",
            "  Attempting uninstall: typing-extensions\n",
            "    Found existing installation: typing-extensions 4.3.0\n",
            "    Uninstalling typing-extensions-4.3.0:\n",
            "      Successfully uninstalled typing-extensions-4.3.0\n",
            "\u001b[31mERROR: pip's dependency resolver does not currently take into account all the packages that are installed. This behaviour is the source of the following dependency conflicts.\n",
            "black 22.8.0 requires typing-extensions>=3.10.0.0; python_version < \"3.10\", but you have typing-extensions 3.7.4.3 which is incompatible.\u001b[0m\n",
            "Successfully installed typing-extensions-3.7.4.3\n",
            "Requirement already satisfied: tensorflow-gpu==2.5.1 in /home/rijul/miniconda3/lib/python3.9/site-packages (2.5.1)\n",
            "Requirement already satisfied: gast==0.4.0 in /home/rijul/miniconda3/lib/python3.9/site-packages (from tensorflow-gpu==2.5.1) (0.4.0)\n",
            "Requirement already satisfied: typing-extensions~=3.7.4 in /home/rijul/miniconda3/lib/python3.9/site-packages (from tensorflow-gpu==2.5.1) (3.7.4.3)\n",
            "Requirement already satisfied: wrapt~=1.12.1 in /home/rijul/miniconda3/lib/python3.9/site-packages (from tensorflow-gpu==2.5.1) (1.12.1)\n",
            "Requirement already satisfied: astunparse~=1.6.3 in /home/rijul/miniconda3/lib/python3.9/site-packages (from tensorflow-gpu==2.5.1) (1.6.3)\n",
            "Requirement already satisfied: grpcio~=1.34.0 in /home/rijul/miniconda3/lib/python3.9/site-packages (from tensorflow-gpu==2.5.1) (1.34.1)\n",
            "Requirement already satisfied: termcolor~=1.1.0 in /home/rijul/miniconda3/lib/python3.9/site-packages (from tensorflow-gpu==2.5.1) (1.1.0)\n",
            "Requirement already satisfied: google-pasta~=0.2 in /home/rijul/miniconda3/lib/python3.9/site-packages (from tensorflow-gpu==2.5.1) (0.2.0)\n",
            "Requirement already satisfied: absl-py~=0.10 in /home/rijul/miniconda3/lib/python3.9/site-packages (from tensorflow-gpu==2.5.1) (0.15.0)\n",
            "Requirement already satisfied: tensorboard~=2.5 in /home/rijul/miniconda3/lib/python3.9/site-packages (from tensorflow-gpu==2.5.1) (2.10.0)\n",
            "Requirement already satisfied: numpy~=1.19.2 in /home/rijul/miniconda3/lib/python3.9/site-packages (from tensorflow-gpu==2.5.1) (1.19.5)\n",
            "Requirement already satisfied: six~=1.15.0 in /home/rijul/miniconda3/lib/python3.9/site-packages (from tensorflow-gpu==2.5.1) (1.15.0)\n",
            "Requirement already satisfied: opt-einsum~=3.3.0 in /home/rijul/miniconda3/lib/python3.9/site-packages (from tensorflow-gpu==2.5.1) (3.3.0)\n",
            "Requirement already satisfied: tensorflow-estimator<2.6.0,>=2.5.0 in /home/rijul/miniconda3/lib/python3.9/site-packages (from tensorflow-gpu==2.5.1) (2.5.0)\n",
            "Requirement already satisfied: protobuf>=3.9.2 in /home/rijul/miniconda3/lib/python3.9/site-packages (from tensorflow-gpu==2.5.1) (3.19.5)\n",
            "Requirement already satisfied: h5py~=3.1.0 in /home/rijul/miniconda3/lib/python3.9/site-packages (from tensorflow-gpu==2.5.1) (3.1.0)\n",
            "Requirement already satisfied: keras-preprocessing~=1.1.2 in /home/rijul/miniconda3/lib/python3.9/site-packages (from tensorflow-gpu==2.5.1) (1.1.2)\n",
            "Requirement already satisfied: keras-nightly~=2.5.0.dev in /home/rijul/miniconda3/lib/python3.9/site-packages (from tensorflow-gpu==2.5.1) (2.5.0.dev2021032900)\n",
            "Requirement already satisfied: wheel~=0.35 in /home/rijul/miniconda3/lib/python3.9/site-packages (from tensorflow-gpu==2.5.1) (0.37.1)\n",
            "Requirement already satisfied: flatbuffers~=1.12.0 in /home/rijul/miniconda3/lib/python3.9/site-packages (from tensorflow-gpu==2.5.1) (1.12)\n",
            "Requirement already satisfied: requests<3,>=2.21.0 in /home/rijul/miniconda3/lib/python3.9/site-packages (from tensorboard~=2.5->tensorflow-gpu==2.5.1) (2.27.1)\n",
            "Requirement already satisfied: google-auth-oauthlib<0.5,>=0.4.1 in /home/rijul/miniconda3/lib/python3.9/site-packages (from tensorboard~=2.5->tensorflow-gpu==2.5.1) (0.4.6)\n",
            "Requirement already satisfied: tensorboard-plugin-wit>=1.6.0 in /home/rijul/miniconda3/lib/python3.9/site-packages (from tensorboard~=2.5->tensorflow-gpu==2.5.1) (1.8.1)\n",
            "Requirement already satisfied: setuptools>=41.0.0 in /home/rijul/miniconda3/lib/python3.9/site-packages (from tensorboard~=2.5->tensorflow-gpu==2.5.1) (61.2.0)\n",
            "Requirement already satisfied: google-auth<3,>=1.6.3 in /home/rijul/miniconda3/lib/python3.9/site-packages (from tensorboard~=2.5->tensorflow-gpu==2.5.1) (2.11.1)\n",
            "Requirement already satisfied: tensorboard-data-server<0.7.0,>=0.6.0 in /home/rijul/miniconda3/lib/python3.9/site-packages (from tensorboard~=2.5->tensorflow-gpu==2.5.1) (0.6.1)\n",
            "Requirement already satisfied: werkzeug>=1.0.1 in /home/rijul/miniconda3/lib/python3.9/site-packages (from tensorboard~=2.5->tensorflow-gpu==2.5.1) (2.2.2)\n",
            "Requirement already satisfied: markdown>=2.6.8 in /home/rijul/miniconda3/lib/python3.9/site-packages (from tensorboard~=2.5->tensorflow-gpu==2.5.1) (3.4.1)\n",
            "Requirement already satisfied: rsa<5,>=3.1.4 in /home/rijul/miniconda3/lib/python3.9/site-packages (from google-auth<3,>=1.6.3->tensorboard~=2.5->tensorflow-gpu==2.5.1) (4.9)\n",
            "Requirement already satisfied: cachetools<6.0,>=2.0.0 in /home/rijul/miniconda3/lib/python3.9/site-packages (from google-auth<3,>=1.6.3->tensorboard~=2.5->tensorflow-gpu==2.5.1) (5.2.0)\n",
            "Requirement already satisfied: pyasn1-modules>=0.2.1 in /home/rijul/miniconda3/lib/python3.9/site-packages (from google-auth<3,>=1.6.3->tensorboard~=2.5->tensorflow-gpu==2.5.1) (0.2.8)\n",
            "Requirement already satisfied: requests-oauthlib>=0.7.0 in /home/rijul/miniconda3/lib/python3.9/site-packages (from google-auth-oauthlib<0.5,>=0.4.1->tensorboard~=2.5->tensorflow-gpu==2.5.1) (1.3.1)\n",
            "Requirement already satisfied: importlib-metadata>=4.4 in /home/rijul/miniconda3/lib/python3.9/site-packages (from markdown>=2.6.8->tensorboard~=2.5->tensorflow-gpu==2.5.1) (4.12.0)\n",
            "Requirement already satisfied: zipp>=0.5 in /home/rijul/miniconda3/lib/python3.9/site-packages (from importlib-metadata>=4.4->markdown>=2.6.8->tensorboard~=2.5->tensorflow-gpu==2.5.1) (3.8.1)\n",
            "Requirement already satisfied: pyasn1<0.5.0,>=0.4.6 in /home/rijul/miniconda3/lib/python3.9/site-packages (from pyasn1-modules>=0.2.1->google-auth<3,>=1.6.3->tensorboard~=2.5->tensorflow-gpu==2.5.1) (0.4.8)\n",
            "Requirement already satisfied: certifi>=2017.4.17 in /home/rijul/miniconda3/lib/python3.9/site-packages (from requests<3,>=2.21.0->tensorboard~=2.5->tensorflow-gpu==2.5.1) (2021.10.8)\n",
            "Requirement already satisfied: urllib3<1.27,>=1.21.1 in /home/rijul/miniconda3/lib/python3.9/site-packages (from requests<3,>=2.21.0->tensorboard~=2.5->tensorflow-gpu==2.5.1) (1.26.8)\n",
            "Requirement already satisfied: charset-normalizer~=2.0.0 in /home/rijul/miniconda3/lib/python3.9/site-packages (from requests<3,>=2.21.0->tensorboard~=2.5->tensorflow-gpu==2.5.1) (2.0.4)\n",
            "Requirement already satisfied: idna<4,>=2.5 in /home/rijul/miniconda3/lib/python3.9/site-packages (from requests<3,>=2.21.0->tensorboard~=2.5->tensorflow-gpu==2.5.1) (3.3)\n",
            "Requirement already satisfied: oauthlib>=3.0.0 in /home/rijul/miniconda3/lib/python3.9/site-packages (from requests-oauthlib>=0.7.0->google-auth-oauthlib<0.5,>=0.4.1->tensorboard~=2.5->tensorflow-gpu==2.5.1) (3.2.1)\n",
            "Requirement already satisfied: MarkupSafe>=2.1.1 in /home/rijul/miniconda3/lib/python3.9/site-packages (from werkzeug>=1.0.1->tensorboard~=2.5->tensorflow-gpu==2.5.1) (2.1.1)\n",
            "Requirement already satisfied: pixellib in /home/rijul/miniconda3/lib/python3.9/site-packages (0.7.1)\n",
            "Requirement already satisfied: future in /home/rijul/miniconda3/lib/python3.9/site-packages (from pixellib) (0.18.2)\n",
            "Requirement already satisfied: iopath in /home/rijul/miniconda3/lib/python3.9/site-packages (from pixellib) (0.1.10)\n",
            "Requirement already satisfied: dataclasses in /home/rijul/miniconda3/lib/python3.9/site-packages (from pixellib) (0.6)\n",
            "Requirement already satisfied: tqdm in /home/rijul/miniconda3/lib/python3.9/site-packages (from pixellib) (4.63.0)\n",
            "Requirement already satisfied: imgaug in /home/rijul/miniconda3/lib/python3.9/site-packages (from pixellib) (0.4.0)\n",
            "Requirement already satisfied: termcolor in /home/rijul/miniconda3/lib/python3.9/site-packages (from pixellib) (1.1.0)\n",
            "Requirement already satisfied: pydot in /home/rijul/miniconda3/lib/python3.9/site-packages (from pixellib) (1.4.2)\n",
            "Requirement already satisfied: tabulate in /home/rijul/miniconda3/lib/python3.9/site-packages (from pixellib) (0.8.10)\n",
            "Requirement already satisfied: imantics in /home/rijul/miniconda3/lib/python3.9/site-packages (from pixellib) (0.1.12)\n",
            "Requirement already satisfied: Cython in /home/rijul/miniconda3/lib/python3.9/site-packages (from pixellib) (0.29.32)\n",
            "Requirement already satisfied: fvcore in /home/rijul/miniconda3/lib/python3.9/site-packages (from pixellib) (0.1.5.post20220512)\n",
            "Requirement already satisfied: matplotlib in /home/rijul/miniconda3/lib/python3.9/site-packages (from pixellib) (3.5.3)\n",
            "Requirement already satisfied: opencv-python in /home/rijul/miniconda3/lib/python3.9/site-packages (from pixellib) (4.6.0.66)\n",
            "Requirement already satisfied: pillow in /home/rijul/miniconda3/lib/python3.9/site-packages (from pixellib) (9.2.0)\n",
            "Requirement already satisfied: black in /home/rijul/miniconda3/lib/python3.9/site-packages (from pixellib) (22.8.0)\n",
            "Requirement already satisfied: pyQt5 in /home/rijul/miniconda3/lib/python3.9/site-packages (from pixellib) (5.15.7)\n",
            "Requirement already satisfied: hydra-core in /home/rijul/miniconda3/lib/python3.9/site-packages (from pixellib) (1.2.0)\n",
            "Requirement already satisfied: cloudpickle in /home/rijul/miniconda3/lib/python3.9/site-packages (from pixellib) (2.2.0)\n",
            "Requirement already satisfied: yacs in /home/rijul/miniconda3/lib/python3.9/site-packages (from pixellib) (0.1.8)\n",
            "Requirement already satisfied: scikit-image in /home/rijul/miniconda3/lib/python3.9/site-packages (from pixellib) (0.19.3)\n",
            "Requirement already satisfied: labelme2coco in /home/rijul/miniconda3/lib/python3.9/site-packages (from pixellib) (0.2.1)\n",
            "Requirement already satisfied: omegaconf in /home/rijul/miniconda3/lib/python3.9/site-packages (from pixellib) (2.2.3)\n",
            "Requirement already satisfied: pathspec>=0.9.0 in /home/rijul/miniconda3/lib/python3.9/site-packages (from black->pixellib) (0.10.1)\n",
            "Requirement already satisfied: mypy-extensions>=0.4.3 in /home/rijul/miniconda3/lib/python3.9/site-packages (from black->pixellib) (0.4.3)\n",
            "Requirement already satisfied: tomli>=1.1.0 in /home/rijul/miniconda3/lib/python3.9/site-packages (from black->pixellib) (2.0.1)\n",
            "Requirement already satisfied: click>=8.0.0 in /home/rijul/miniconda3/lib/python3.9/site-packages (from black->pixellib) (8.0.4)\n",
            "Collecting typing-extensions>=3.10.0.0\n",
            "  Using cached typing_extensions-4.3.0-py3-none-any.whl (25 kB)\n",
            "Requirement already satisfied: platformdirs>=2 in /home/rijul/miniconda3/lib/python3.9/site-packages (from black->pixellib) (2.5.2)\n",
            "Requirement already satisfied: numpy in /home/rijul/miniconda3/lib/python3.9/site-packages (from fvcore->pixellib) (1.19.5)\n",
            "Requirement already satisfied: pyyaml>=5.1 in /home/rijul/miniconda3/lib/python3.9/site-packages (from fvcore->pixellib) (6.0)\n",
            "Requirement already satisfied: portalocker in /home/rijul/miniconda3/lib/python3.9/site-packages (from iopath->pixellib) (2.5.1)\n",
            "Requirement already satisfied: packaging in /home/rijul/.local/lib/python3.9/site-packages (from hydra-core->pixellib) (21.3)\n",
            "Requirement already satisfied: antlr4-python3-runtime==4.9.* in /home/rijul/miniconda3/lib/python3.9/site-packages (from hydra-core->pixellib) (4.9.3)\n",
            "Requirement already satisfied: xmljson in /home/rijul/miniconda3/lib/python3.9/site-packages (from imantics->pixellib) (0.2.1)\n",
            "Requirement already satisfied: lxml in /home/rijul/miniconda3/lib/python3.9/site-packages (from imantics->pixellib) (4.9.1)\n",
            "Requirement already satisfied: scipy in /home/rijul/miniconda3/lib/python3.9/site-packages (from imgaug->pixellib) (1.9.1)\n",
            "Requirement already satisfied: Shapely in /home/rijul/miniconda3/lib/python3.9/site-packages (from imgaug->pixellib) (1.8.4)\n",
            "Requirement already satisfied: imageio in /home/rijul/miniconda3/lib/python3.9/site-packages (from imgaug->pixellib) (2.22.0)\n",
            "Requirement already satisfied: six in /home/rijul/miniconda3/lib/python3.9/site-packages (from imgaug->pixellib) (1.15.0)\n",
            "Requirement already satisfied: tifffile>=2019.7.26 in /home/rijul/miniconda3/lib/python3.9/site-packages (from scikit-image->pixellib) (2022.8.12)\n",
            "Requirement already satisfied: networkx>=2.2 in /home/rijul/miniconda3/lib/python3.9/site-packages (from scikit-image->pixellib) (2.8.6)\n",
            "Requirement already satisfied: PyWavelets>=1.1.1 in /home/rijul/miniconda3/lib/python3.9/site-packages (from scikit-image->pixellib) (1.4.1)\n",
            "Requirement already satisfied: pyparsing!=3.0.5,>=2.0.2 in /home/rijul/.local/lib/python3.9/site-packages (from packaging->hydra-core->pixellib) (3.0.9)\n",
            "Requirement already satisfied: sahi>=0.8.19 in /home/rijul/miniconda3/lib/python3.9/site-packages (from labelme2coco->pixellib) (0.10.5)\n",
            "Requirement already satisfied: jsonschema>=2.6.0 in /home/rijul/miniconda3/lib/python3.9/site-packages (from labelme2coco->pixellib) (4.16.0)\n",
            "Requirement already satisfied: attrs>=17.4.0 in /home/rijul/miniconda3/lib/python3.9/site-packages (from jsonschema>=2.6.0->labelme2coco->pixellib) (22.1.0)\n",
            "Requirement already satisfied: pyrsistent!=0.17.0,!=0.17.1,!=0.17.2,>=0.14.0 in /home/rijul/miniconda3/lib/python3.9/site-packages (from jsonschema>=2.6.0->labelme2coco->pixellib) (0.18.1)\n",
            "Requirement already satisfied: terminaltables in /home/rijul/miniconda3/lib/python3.9/site-packages (from sahi>=0.8.19->labelme2coco->pixellib) (3.1.10)\n",
            "Requirement already satisfied: requests in /home/rijul/miniconda3/lib/python3.9/site-packages (from sahi>=0.8.19->labelme2coco->pixellib) (2.27.1)\n",
            "Requirement already satisfied: pybboxes==0.1.4 in /home/rijul/miniconda3/lib/python3.9/site-packages (from sahi>=0.8.19->labelme2coco->pixellib) (0.1.4)\n",
            "Requirement already satisfied: fire in /home/rijul/miniconda3/lib/python3.9/site-packages (from sahi>=0.8.19->labelme2coco->pixellib) (0.4.0)\n",
            "Requirement already satisfied: fonttools>=4.22.0 in /home/rijul/miniconda3/lib/python3.9/site-packages (from matplotlib->pixellib) (4.37.1)\n",
            "Requirement already satisfied: python-dateutil>=2.7 in /home/rijul/.local/lib/python3.9/site-packages (from matplotlib->pixellib) (2.8.2)\n",
            "Requirement already satisfied: kiwisolver>=1.0.1 in /home/rijul/miniconda3/lib/python3.9/site-packages (from matplotlib->pixellib) (1.4.4)\n",
            "Requirement already satisfied: cycler>=0.10 in /home/rijul/miniconda3/lib/python3.9/site-packages (from matplotlib->pixellib) (0.11.0)\n",
            "Requirement already satisfied: PyQt5-Qt5>=5.15.0 in /home/rijul/miniconda3/lib/python3.9/site-packages (from pyQt5->pixellib) (5.15.2)\n",
            "Requirement already satisfied: PyQt5-sip<13,>=12.11 in /home/rijul/miniconda3/lib/python3.9/site-packages (from pyQt5->pixellib) (12.11.0)\n",
            "Requirement already satisfied: charset-normalizer~=2.0.0 in /home/rijul/miniconda3/lib/python3.9/site-packages (from requests->sahi>=0.8.19->labelme2coco->pixellib) (2.0.4)\n",
            "Requirement already satisfied: certifi>=2017.4.17 in /home/rijul/miniconda3/lib/python3.9/site-packages (from requests->sahi>=0.8.19->labelme2coco->pixellib) (2021.10.8)\n",
            "Requirement already satisfied: idna<4,>=2.5 in /home/rijul/miniconda3/lib/python3.9/site-packages (from requests->sahi>=0.8.19->labelme2coco->pixellib) (3.3)\n",
            "Requirement already satisfied: urllib3<1.27,>=1.21.1 in /home/rijul/miniconda3/lib/python3.9/site-packages (from requests->sahi>=0.8.19->labelme2coco->pixellib) (1.26.8)\n",
            "Installing collected packages: typing-extensions\n",
            "  Attempting uninstall: typing-extensions\n",
            "    Found existing installation: typing-extensions 3.7.4.3\n",
            "    Uninstalling typing-extensions-3.7.4.3:\n",
            "      Successfully uninstalled typing-extensions-3.7.4.3\n",
            "\u001b[31mERROR: pip's dependency resolver does not currently take into account all the packages that are installed. This behaviour is the source of the following dependency conflicts.\n",
            "tensorflow 2.5.1 requires typing-extensions~=3.7.4, but you have typing-extensions 4.3.0 which is incompatible.\n",
            "tensorflow-gpu 2.5.1 requires typing-extensions~=3.7.4, but you have typing-extensions 4.3.0 which is incompatible.\u001b[0m\n",
            "Successfully installed typing-extensions-4.3.0\n",
            "Requirement already satisfied: opencv-python in /home/rijul/miniconda3/lib/python3.9/site-packages (4.6.0.66)\n",
            "Requirement already satisfied: numpy>=1.17.3 in /home/rijul/miniconda3/lib/python3.9/site-packages (from opencv-python) (1.19.5)\n"
          ]
        }
      ],
      "source": [
        "!pip install tensorflow==2.5.1\n",
        "!pip install tensorflow-gpu==2.5.1\n",
        "!pip install pixellib\n",
        "!pip install opencv-python"
      ]
    },
    {
      "cell_type": "code",
      "execution_count": 2,
      "metadata": {
        "id": "E6PpCXWwXKdg"
      },
      "outputs": [
        {
          "name": "stderr",
          "output_type": "stream",
          "text": [
            "2022-09-28 14:57:54.202913: W tensorflow/stream_executor/platform/default/dso_loader.cc:64] Could not load dynamic library 'libcudart.so.11.0'; dlerror: libcudart.so.11.0: cannot open shared object file: No such file or directory; LD_LIBRARY_PATH: /home/rijul/miniconda3/lib/python3.9/site-packages/cv2/../../lib64:\n",
            "2022-09-28 14:57:54.202950: I tensorflow/stream_executor/cuda/cudart_stub.cc:29] Ignore above cudart dlerror if you do not have a GPU set up on your machine.\n"
          ]
        }
      ],
      "source": [
        "import pixellib\n",
        "from pixellib.instance import instance_segmentation\n",
        "import cv2"
      ]
    },
    {
      "cell_type": "markdown",
      "metadata": {
        "id": "iE4Dp-nZXKdg"
      },
      "source": [
        "# 2. Setup Model"
      ]
    },
    {
      "cell_type": "code",
      "execution_count": 3,
      "metadata": {
        "colab": {
          "base_uri": "https://localhost:8080/"
        },
        "id": "G0fz068zZKZw",
        "outputId": "f526885d-9841-4012-f483-0685cdb0db84"
      },
      "outputs": [],
      "source": [
        "!wget https://github.com/matterport/Mask_RCNN/releases/download/v2.0/mask_rcnn_coco.h5"
      ]
    },
    {
      "cell_type": "code",
      "execution_count": 6,
      "metadata": {
        "id": "rm9UFmDzXKdg"
      },
      "outputs": [
        {
          "name": "stderr",
          "output_type": "stream",
          "text": [
            "2022-09-28 14:58:44.774857: I tensorflow/core/platform/cpu_feature_guard.cc:142] This TensorFlow binary is optimized with oneAPI Deep Neural Network Library (oneDNN) to use the following CPU instructions in performance-critical operations:  AVX2 FMA\n",
            "To enable them in other operations, rebuild TensorFlow with the appropriate compiler flags.\n",
            "2022-09-28 14:58:46.181679: I tensorflow/core/platform/profile_utils/cpu_utils.cc:114] CPU Frequency: 2095929999 Hz\n"
          ]
        }
      ],
      "source": [
        "segmentation_model = instance_segmentation()\n",
        "segmentation_model.load_model('mask_rcnn_coco.h5')"
      ]
    },
    {
      "cell_type": "markdown",
      "metadata": {
        "id": "LuKqckcgXKdh"
      },
      "source": [
        "# 3. Get Inference"
      ]
    },
    {
      "cell_type": "code",
      "execution_count": 9,
      "metadata": {},
      "outputs": [],
      "source": [
        "# Apply instance segmentation\n",
        "def instSeg(ind):\n",
        "    img_name = \"raw_images/img (\"+str(ind)+\").jpg\"\n",
        "    frame = cv2.imread(img_name)\n",
        "    res = segmentation_model.segmentFrame(frame, extract_segmented_objects = True)\n",
        "    image = res[1]\n",
        "    # print(res[0]['extracted_objects'])\n",
        "    masks = res[0]['extracted_objects']\n",
        "    areas = []\n",
        "    # print(masks)\n",
        "    for object_contours in masks:\n",
        "        # print(object_contours.shape)\n",
        "        positive_pixel_count = object_contours.astype(bool).sum() # assumes binary mask (True == 1)\n",
        "        # h, w, l = object_contours.shape # assumes NHWC data format, adapt as needed\n",
        "        # print(positive_pixel_count)\n",
        "        h,w,l  = frame.shape\n",
        "        area = positive_pixel_count / (w*h*l) * 100\n",
        "        areas.append(area)\n",
        "    # print(areas)\n",
        "    areas_sum= round(sum(areas),2)\n",
        "    print(areas_sum)\n",
        "    img_out_name = \"out/img (\"+str(ind)+\")_\"+str(areas_sum)+\".jpg\"\n",
        "    cv2.imwrite(img_out_name, image)\n",
        "\n"
      ]
    },
    {
      "cell_type": "code",
      "execution_count": 12,
      "metadata": {},
      "outputs": [
        {
          "name": "stdout",
          "output_type": "stream",
          "text": [
            "52.06\n",
            "60.68\n",
            "23.82\n",
            "14.3\n",
            "28.68\n",
            "22.14\n",
            "18.71\n"
          ]
        },
        {
          "ename": "KeyboardInterrupt",
          "evalue": "",
          "output_type": "error",
          "traceback": [
            "\u001b[0;31m---------------------------------------------------------------------------\u001b[0m",
            "\u001b[0;31mKeyboardInterrupt\u001b[0m                         Traceback (most recent call last)",
            "Cell \u001b[0;32mIn [12], line 2\u001b[0m\n\u001b[1;32m      1\u001b[0m \u001b[38;5;28;01mfor\u001b[39;00m i \u001b[38;5;129;01min\u001b[39;00m \u001b[38;5;28mrange\u001b[39m(\u001b[38;5;241m227\u001b[39m,\u001b[38;5;241m1\u001b[39m,\u001b[38;5;241m-\u001b[39m\u001b[38;5;241m6\u001b[39m):\n\u001b[0;32m----> 2\u001b[0m     \u001b[43minstSeg\u001b[49m\u001b[43m(\u001b[49m\u001b[43mi\u001b[49m\u001b[43m)\u001b[49m\n",
            "Cell \u001b[0;32mIn [9], line 5\u001b[0m, in \u001b[0;36minstSeg\u001b[0;34m(ind)\u001b[0m\n\u001b[1;32m      3\u001b[0m img_name \u001b[38;5;241m=\u001b[39m \u001b[38;5;124m\"\u001b[39m\u001b[38;5;124mraw_images/img (\u001b[39m\u001b[38;5;124m\"\u001b[39m\u001b[38;5;241m+\u001b[39m\u001b[38;5;28mstr\u001b[39m(ind)\u001b[38;5;241m+\u001b[39m\u001b[38;5;124m\"\u001b[39m\u001b[38;5;124m).jpg\u001b[39m\u001b[38;5;124m\"\u001b[39m\n\u001b[1;32m      4\u001b[0m frame \u001b[38;5;241m=\u001b[39m cv2\u001b[38;5;241m.\u001b[39mimread(img_name)\n\u001b[0;32m----> 5\u001b[0m res \u001b[38;5;241m=\u001b[39m \u001b[43msegmentation_model\u001b[49m\u001b[38;5;241;43m.\u001b[39;49m\u001b[43msegmentFrame\u001b[49m\u001b[43m(\u001b[49m\u001b[43mframe\u001b[49m\u001b[43m,\u001b[49m\u001b[43m \u001b[49m\u001b[43mextract_segmented_objects\u001b[49m\u001b[43m \u001b[49m\u001b[38;5;241;43m=\u001b[39;49m\u001b[43m \u001b[49m\u001b[38;5;28;43;01mTrue\u001b[39;49;00m\u001b[43m)\u001b[49m\n\u001b[1;32m      6\u001b[0m image \u001b[38;5;241m=\u001b[39m res[\u001b[38;5;241m1\u001b[39m]\n\u001b[1;32m      7\u001b[0m \u001b[38;5;66;03m# print(res[0]['extracted_objects'])\u001b[39;00m\n",
            "File \u001b[0;32m~/miniconda3/lib/python3.9/site-packages/pixellib/instance/__init__.py:442\u001b[0m, in \u001b[0;36minstance_segmentation.segmentFrame\u001b[0;34m(self, frame, show_bboxes, segment_target_classes, extract_segmented_objects, text_thickness, text_size, box_thickness, save_extracted_objects, mask_points_values, output_image_name, verbose)\u001b[0m\n\u001b[1;32m    440\u001b[0m \u001b[39mif\u001b[39;00m verbose \u001b[39mis\u001b[39;00m \u001b[39mnot\u001b[39;00m \u001b[39mNone\u001b[39;00m:\n\u001b[1;32m    441\u001b[0m     \u001b[39mprint\u001b[39m(\u001b[39m\"\u001b[39m\u001b[39mProcessing image...\u001b[39m\u001b[39m\"\u001b[39m)\n\u001b[0;32m--> 442\u001b[0m results \u001b[39m=\u001b[39m \u001b[39mself\u001b[39;49m\u001b[39m.\u001b[39;49mmodel\u001b[39m.\u001b[39;49mdetect([new_frame])    \n\u001b[1;32m    445\u001b[0m r \u001b[39m=\u001b[39m results[\u001b[39m0\u001b[39m] \n\u001b[1;32m    447\u001b[0m \u001b[39m\"\"\"Filter unused detections and detect specific classes \"\"\"\u001b[39;00m\n",
            "File \u001b[0;32m~/miniconda3/lib/python3.9/site-packages/pixellib/instance/mask_rcnn.py:2464\u001b[0m, in \u001b[0;36mMaskRCNN.detect\u001b[0;34m(self, images, verbose)\u001b[0m\n\u001b[1;32m   2457\u001b[0m \u001b[39m\"\"\"if verbose:\u001b[39;00m\n\u001b[1;32m   2458\u001b[0m \u001b[39m    log(\"molded_images\", molded_images)\u001b[39;00m\n\u001b[1;32m   2459\u001b[0m \u001b[39m    log(\"image_metas\", image_metas)\u001b[39;00m\n\u001b[1;32m   2460\u001b[0m \u001b[39m    log(\"anchors\", anchors)\u001b[39;00m\n\u001b[1;32m   2461\u001b[0m \u001b[39m\"\"\"\u001b[39;00m    \n\u001b[1;32m   2462\u001b[0m \u001b[39m# Run object detection\u001b[39;00m\n\u001b[1;32m   2463\u001b[0m detections, _, _, mrcnn_mask, _, _, _ \u001b[39m=\u001b[39m\\\n\u001b[0;32m-> 2464\u001b[0m     \u001b[39mself\u001b[39;49m\u001b[39m.\u001b[39;49mkeras_model\u001b[39m.\u001b[39;49mpredict([molded_images, image_metas, anchors], verbose\u001b[39m=\u001b[39;49m\u001b[39m0\u001b[39;49m)\n\u001b[1;32m   2465\u001b[0m \u001b[39m# Process detections\u001b[39;00m\n\u001b[1;32m   2466\u001b[0m results \u001b[39m=\u001b[39m []\n",
            "File \u001b[0;32m~/miniconda3/lib/python3.9/site-packages/tensorflow/python/keras/engine/training_v1.py:988\u001b[0m, in \u001b[0;36mModel.predict\u001b[0;34m(self, x, batch_size, verbose, steps, callbacks, max_queue_size, workers, use_multiprocessing)\u001b[0m\n\u001b[1;32m    985\u001b[0m \u001b[39mself\u001b[39m\u001b[39m.\u001b[39m_check_call_args(\u001b[39m'\u001b[39m\u001b[39mpredict\u001b[39m\u001b[39m'\u001b[39m)\n\u001b[1;32m    987\u001b[0m func \u001b[39m=\u001b[39m \u001b[39mself\u001b[39m\u001b[39m.\u001b[39m_select_training_loop(x)\n\u001b[0;32m--> 988\u001b[0m \u001b[39mreturn\u001b[39;00m func\u001b[39m.\u001b[39;49mpredict(\n\u001b[1;32m    989\u001b[0m     \u001b[39mself\u001b[39;49m,\n\u001b[1;32m    990\u001b[0m     x\u001b[39m=\u001b[39;49mx,\n\u001b[1;32m    991\u001b[0m     batch_size\u001b[39m=\u001b[39;49mbatch_size,\n\u001b[1;32m    992\u001b[0m     verbose\u001b[39m=\u001b[39;49mverbose,\n\u001b[1;32m    993\u001b[0m     steps\u001b[39m=\u001b[39;49msteps,\n\u001b[1;32m    994\u001b[0m     callbacks\u001b[39m=\u001b[39;49mcallbacks,\n\u001b[1;32m    995\u001b[0m     max_queue_size\u001b[39m=\u001b[39;49mmax_queue_size,\n\u001b[1;32m    996\u001b[0m     workers\u001b[39m=\u001b[39;49mworkers,\n\u001b[1;32m    997\u001b[0m     use_multiprocessing\u001b[39m=\u001b[39;49muse_multiprocessing)\n",
            "File \u001b[0;32m~/miniconda3/lib/python3.9/site-packages/tensorflow/python/keras/engine/training_arrays_v1.py:703\u001b[0m, in \u001b[0;36mArrayLikeTrainingLoop.predict\u001b[0;34m(self, model, x, batch_size, verbose, steps, callbacks, **kwargs)\u001b[0m\n\u001b[1;32m    700\u001b[0m batch_size \u001b[39m=\u001b[39m model\u001b[39m.\u001b[39m_validate_or_infer_batch_size(batch_size, steps, x)\n\u001b[1;32m    701\u001b[0m x, _, _ \u001b[39m=\u001b[39m model\u001b[39m.\u001b[39m_standardize_user_data(\n\u001b[1;32m    702\u001b[0m     x, check_steps\u001b[39m=\u001b[39m\u001b[39mTrue\u001b[39;00m, steps_name\u001b[39m=\u001b[39m\u001b[39m'\u001b[39m\u001b[39msteps\u001b[39m\u001b[39m'\u001b[39m, steps\u001b[39m=\u001b[39msteps)\n\u001b[0;32m--> 703\u001b[0m \u001b[39mreturn\u001b[39;00m predict_loop(\n\u001b[1;32m    704\u001b[0m     model,\n\u001b[1;32m    705\u001b[0m     x,\n\u001b[1;32m    706\u001b[0m     batch_size\u001b[39m=\u001b[39;49mbatch_size,\n\u001b[1;32m    707\u001b[0m     verbose\u001b[39m=\u001b[39;49mverbose,\n\u001b[1;32m    708\u001b[0m     steps\u001b[39m=\u001b[39;49msteps,\n\u001b[1;32m    709\u001b[0m     callbacks\u001b[39m=\u001b[39;49mcallbacks)\n",
            "File \u001b[0;32m~/miniconda3/lib/python3.9/site-packages/tensorflow/python/keras/engine/training_arrays_v1.py:380\u001b[0m, in \u001b[0;36mmodel_iteration\u001b[0;34m(model, inputs, targets, sample_weights, batch_size, epochs, verbose, callbacks, val_inputs, val_targets, val_sample_weights, shuffle, initial_epoch, steps_per_epoch, validation_steps, validation_freq, mode, validation_in_fit, prepared_feed_values_from_dataset, steps_name, **kwargs)\u001b[0m\n\u001b[1;32m    377\u001b[0m callbacks\u001b[39m.\u001b[39m_call_batch_hook(mode, \u001b[39m'\u001b[39m\u001b[39mbegin\u001b[39m\u001b[39m'\u001b[39m, batch_index, batch_logs)\n\u001b[1;32m    379\u001b[0m \u001b[39m# Get outputs.\u001b[39;00m\n\u001b[0;32m--> 380\u001b[0m batch_outs \u001b[39m=\u001b[39m f(ins_batch)\n\u001b[1;32m    381\u001b[0m \u001b[39mif\u001b[39;00m \u001b[39mnot\u001b[39;00m \u001b[39misinstance\u001b[39m(batch_outs, \u001b[39mlist\u001b[39m):\n\u001b[1;32m    382\u001b[0m   batch_outs \u001b[39m=\u001b[39m [batch_outs]\n",
            "File \u001b[0;32m~/miniconda3/lib/python3.9/site-packages/tensorflow/python/keras/backend.py:4054\u001b[0m, in \u001b[0;36mGraphExecutionFunction.__call__\u001b[0;34m(self, inputs)\u001b[0m\n\u001b[1;32m   4048\u001b[0m \u001b[39mif\u001b[39;00m (\u001b[39mself\u001b[39m\u001b[39m.\u001b[39m_callable_fn \u001b[39mis\u001b[39;00m \u001b[39mNone\u001b[39;00m \u001b[39mor\u001b[39;00m feed_arrays \u001b[39m!=\u001b[39m \u001b[39mself\u001b[39m\u001b[39m.\u001b[39m_feed_arrays \u001b[39mor\u001b[39;00m\n\u001b[1;32m   4049\u001b[0m     symbol_vals \u001b[39m!=\u001b[39m \u001b[39mself\u001b[39m\u001b[39m.\u001b[39m_symbol_vals \u001b[39mor\u001b[39;00m\n\u001b[1;32m   4050\u001b[0m     feed_symbols \u001b[39m!=\u001b[39m \u001b[39mself\u001b[39m\u001b[39m.\u001b[39m_feed_symbols \u001b[39mor\u001b[39;00m \u001b[39mself\u001b[39m\u001b[39m.\u001b[39mfetches \u001b[39m!=\u001b[39m \u001b[39mself\u001b[39m\u001b[39m.\u001b[39m_fetches \u001b[39mor\u001b[39;00m\n\u001b[1;32m   4051\u001b[0m     session \u001b[39m!=\u001b[39m \u001b[39mself\u001b[39m\u001b[39m.\u001b[39m_session):\n\u001b[1;32m   4052\u001b[0m   \u001b[39mself\u001b[39m\u001b[39m.\u001b[39m_make_callable(feed_arrays, feed_symbols, symbol_vals, session)\n\u001b[0;32m-> 4054\u001b[0m fetched \u001b[39m=\u001b[39m \u001b[39mself\u001b[39;49m\u001b[39m.\u001b[39;49m_callable_fn(\u001b[39m*\u001b[39;49marray_vals,\n\u001b[1;32m   4055\u001b[0m                             run_metadata\u001b[39m=\u001b[39;49m\u001b[39mself\u001b[39;49m\u001b[39m.\u001b[39;49mrun_metadata)\n\u001b[1;32m   4056\u001b[0m \u001b[39mself\u001b[39m\u001b[39m.\u001b[39m_call_fetch_callbacks(fetched[\u001b[39m-\u001b[39m\u001b[39mlen\u001b[39m(\u001b[39mself\u001b[39m\u001b[39m.\u001b[39m_fetches):])\n\u001b[1;32m   4057\u001b[0m output_structure \u001b[39m=\u001b[39m nest\u001b[39m.\u001b[39mpack_sequence_as(\n\u001b[1;32m   4058\u001b[0m     \u001b[39mself\u001b[39m\u001b[39m.\u001b[39m_outputs_structure,\n\u001b[1;32m   4059\u001b[0m     fetched[:\u001b[39mlen\u001b[39m(\u001b[39mself\u001b[39m\u001b[39m.\u001b[39moutputs)],\n\u001b[1;32m   4060\u001b[0m     expand_composites\u001b[39m=\u001b[39m\u001b[39mTrue\u001b[39;00m)\n",
            "File \u001b[0;32m~/miniconda3/lib/python3.9/site-packages/tensorflow/python/client/session.py:1480\u001b[0m, in \u001b[0;36mBaseSession._Callable.__call__\u001b[0;34m(self, *args, **kwargs)\u001b[0m\n\u001b[1;32m   1478\u001b[0m \u001b[39mtry\u001b[39;00m:\n\u001b[1;32m   1479\u001b[0m   run_metadata_ptr \u001b[39m=\u001b[39m tf_session\u001b[39m.\u001b[39mTF_NewBuffer() \u001b[39mif\u001b[39;00m run_metadata \u001b[39melse\u001b[39;00m \u001b[39mNone\u001b[39;00m\n\u001b[0;32m-> 1480\u001b[0m   ret \u001b[39m=\u001b[39m tf_session\u001b[39m.\u001b[39;49mTF_SessionRunCallable(\u001b[39mself\u001b[39;49m\u001b[39m.\u001b[39;49m_session\u001b[39m.\u001b[39;49m_session,\n\u001b[1;32m   1481\u001b[0m                                          \u001b[39mself\u001b[39;49m\u001b[39m.\u001b[39;49m_handle, args,\n\u001b[1;32m   1482\u001b[0m                                          run_metadata_ptr)\n\u001b[1;32m   1483\u001b[0m   \u001b[39mif\u001b[39;00m run_metadata:\n\u001b[1;32m   1484\u001b[0m     proto_data \u001b[39m=\u001b[39m tf_session\u001b[39m.\u001b[39mTF_GetBuffer(run_metadata_ptr)\n",
            "\u001b[0;31mKeyboardInterrupt\u001b[0m: "
          ]
        }
      ],
      "source": [
        "# for i in range(227,1,-6):\n",
        "#     instSeg(i)"
      ]
    },
    {
      "cell_type": "code",
      "execution_count": null,
      "metadata": {},
      "outputs": [],
      "source": []
    }
  ],
  "metadata": {
    "colab": {
      "provenance": []
    },
    "kernelspec": {
      "display_name": "Python 3.9.12 ('base')",
      "language": "python",
      "name": "python3"
    },
    "language_info": {
      "codemirror_mode": {
        "name": "ipython",
        "version": 3
      },
      "file_extension": ".py",
      "mimetype": "text/x-python",
      "name": "python",
      "nbconvert_exporter": "python",
      "pygments_lexer": "ipython3",
      "version": "3.9.12"
    },
    "vscode": {
      "interpreter": {
        "hash": "322c329f7cc97bc51f21bb62adec144b55cd11dfdd4338f51c9cf0d614cc5d5f"
      }
    }
  },
  "nbformat": 4,
  "nbformat_minor": 0
}
